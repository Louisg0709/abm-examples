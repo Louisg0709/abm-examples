{
 "cells": [
  {
   "cell_type": "code",
   "execution_count": null,
   "id": "e0fc8e1d",
   "metadata": {},
   "outputs": [],
   "source": [
    "import matplotlib.pyplot as plt\n",
    "from matplotlib.animation import FuncAnimation\n",
    "import numpy as np\n",
    "\n",
    "dt = 0.005\n",
    "n=20\n",
    "L = 1\n",
    "particles=np.zeros(n,dtype=[(\"position\", float , 2),\n",
    "                           (\"velocity\", float ,2),\n",
    "                           (\"force\", float ,2),\n",
    "                           (\"size\", float , 1)])\n",
    "\n",
    "particles[\"position\"]=np.random.uniform(0,L,(n,2));\n",
    "particles[\"velocity\"]=np.zeros((n,2));\n",
    "particles[\"size\"]=0.5*np.ones(n);\n",
    "\n",
    "fig = plt.figure(figsize=(7,7))\n",
    "ax = plt.axes(xlim=(0,L),ylim=(0,L))\n",
    "scatter=ax.scatter(particles[\"position\"][:,0], particles[\"position\"][:,1])\n",
    "\n",
    "def update(frame_number):\n",
    "   particles[\"force\"]=np.random.uniform(-2,2.,(n,2));\n",
    "   particles[\"velocity\"] = particles[\"velocity\"] + particles[\"force\"]*dt\n",
    "   particles[\"position\"] = particles[\"position\"] + particles[\"velocity\"]*dt\n",
    "\n",
    "   particles[\"position\"] = particles[\"position\"]%L\n",
    "   scatter.set_offsets(particles[\"position\"])\n",
    "   return scatter,\n",
    "\n",
    "anim = FuncAnimation(fig, update, interval=10)\n",
    "plt.show()"
   ]
  },
  {
   "cell_type": "code",
   "execution_count": null,
   "id": "50562545",
   "metadata": {},
   "outputs": [],
   "source": [
    "import random\n",
    "import numpy as np\n",
    "import matplotlib.pyplot as plt\n",
    "\n",
    "fig = plt.figure()\n",
    "ax = fig.add_subplot(1, 1, 1)\n",
    "\n",
    "x = np.random.normal(0.5, 0.3, 10000)\n",
    "y = np.random.normal(0.5, 0.3, 10000)\n",
    "\n",
    "colors = ['red', 'blue']\n",
    "\n",
    "color = dict()\n",
    "for i in x:\n",
    "   if i not in color:\n",
    "      color[i] = colors[random.randint(1, 10) % len(colors)]\n",
    "\n",
    "ax.scatter(x, y, c=[color.get(i) for i in x])\n",
    "\n",
    "ax.set_xlim(-0.5, 1.5)\n",
    "ax.set_ylim(-0.5, 1.5)\n",
    "\n",
    "plt.show()"
   ]
  }
 ],
 "metadata": {
  "kernelspec": {
   "display_name": "Python 3 (ipykernel)",
   "language": "python",
   "name": "python3"
  },
  "language_info": {
   "codemirror_mode": {
    "name": "ipython",
    "version": 3
   },
   "file_extension": ".py",
   "mimetype": "text/x-python",
   "name": "python",
   "nbconvert_exporter": "python",
   "pygments_lexer": "ipython3",
   "version": "3.7.9"
  }
 },
 "nbformat": 4,
 "nbformat_minor": 5
}
