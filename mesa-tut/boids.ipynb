{
 "cells": [
  {
   "cell_type": "code",
   "execution_count": 1,
   "id": "b73d4d48",
   "metadata": {},
   "outputs": [],
   "source": [
    "'''\n",
    "Flockers\n",
    "=============================================================\n",
    "A Mesa implementation of Craig Reynolds's Boids flocker model.\n",
    "Uses numpy arrays to represent vectors.\n",
    "'''\n",
    "\n",
    "\n",
    "import random\n",
    "import numpy as np\n",
    "from mesa import Agent\n",
    "from mesa import Model\n",
    "from mesa.space import ContinuousSpace\n",
    "from mesa.time import RandomActivation\n",
    "\n",
    "from mesa.visualization.ModularVisualization import ModularServer\n",
    "from mesa.visualization.ModularVisualization import VisualizationElement\n",
    "\n",
    "#from .model import BoidModel\n",
    "#from .SimpleContinuousModule import SimpleCanvas\n",
    "\n",
    "#from .boid import Boid\n",
    "\n",
    "import matplotlib.pyplot as plt\n",
    "%matplotlib inline"
   ]
  },
  {
   "cell_type": "code",
   "execution_count": 2,
   "id": "5250f052",
   "metadata": {},
   "outputs": [],
   "source": [
    "class Boid(Agent):\n",
    "    '''\n",
    "    A Boid-style flocker agent.\n",
    "\n",
    "    The agent follows three behaviors to flock:\n",
    "        - Cohesion: steering towards neighboring agents.\n",
    "        - Separation: avoiding getting too close to any other agent.\n",
    "        - Alignment: try to fly in the same direction as the neighbors.\n",
    "\n",
    "    Boids have a vision that defines the radius in which they look for their\n",
    "    neighbors to flock with. Their speed (a scalar) and heading (a unit vector)\n",
    "    define their movement. Separation is their desired minimum distance from\n",
    "    any other Boid.\n",
    "    '''\n",
    "    def __init__(self, unique_id, model, pos, speed=5, heading=None,\n",
    "                 vision=5, separation=1):\n",
    "        '''\n",
    "        Create a new Boid flocker agent.\n",
    "\n",
    "        Args:\n",
    "            unique_id: Unique agent identifyer.\n",
    "            pos: Starting position\n",
    "            speed: Distance to move per step.\n",
    "            heading: numpy vector for the Boid's direction of movement.\n",
    "            vision: Radius to look around for nearby Boids.\n",
    "            separation: Minimum distance to maintain from other Boids.\n",
    "        '''\n",
    "        super().__init__(unique_id, model)\n",
    "        self.pos = pos\n",
    "        self.speed = speed\n",
    "        if heading is not None:\n",
    "            self.heading = heading\n",
    "        else:\n",
    "            self.heading = np.random.random(2)\n",
    "            self.heading /= np.linalg.norm(self.heading)\n",
    "        self.vision = vision\n",
    "        self.separation = separation\n",
    "\n",
    "    def cohere(self, neighbors):\n",
    "        '''\n",
    "        Return the vector toward the center of mass of the local neighbors.\n",
    "        '''\n",
    "        center = np.array([0.0, 0.0])\n",
    "        for neighbor in neighbors:\n",
    "            center += np.array(neighbor.pos)\n",
    "        return center / len(neighbors)\n",
    "\n",
    "    def separate(self, neighbors):\n",
    "        '''\n",
    "        Return a vector away from any neighbors closer than separation dist.\n",
    "        '''\n",
    "        my_pos = np.array(self.pos)\n",
    "        sep_vector = np.array([0, 0])\n",
    "        for neighbor in neighbors:\n",
    "            their_pos = np.array(neighbor.pos)\n",
    "            dist = np.linalg.norm(my_pos - their_pos)\n",
    "            if dist < self.separation:\n",
    "                sep_vector -= np.int64(their_pos - my_pos)\n",
    "        return sep_vector\n",
    "\n",
    "    def match_heading(self, neighbors):\n",
    "        '''\n",
    "        Return a vector of the neighbors' average heading.\n",
    "        '''\n",
    "        mean_heading = np.array([0, 0])\n",
    "        for neighbor in neighbors:\n",
    "            mean_heading += np.int64(neighbor.heading)\n",
    "        return mean_heading / len(neighbors)\n",
    "\n",
    "    def step(self):\n",
    "        '''\n",
    "        Get the Boid's neighbors, compute the new vector, and move accordingly.\n",
    "        '''\n",
    "\n",
    "        neighbors = self.model.space.get_neighbors(self.pos, self.vision, False)\n",
    "        if len(neighbors) > 0:\n",
    "            cohere_vector = self.cohere(neighbors)\n",
    "            separate_vector = self.separate(neighbors)\n",
    "            match_heading_vector = self.match_heading(neighbors)\n",
    "            self.heading += (cohere_vector +\n",
    "                             separate_vector +\n",
    "                             match_heading_vector)\n",
    "            self.heading /= np.linalg.norm(self.heading)\n",
    "        new_pos = np.array(self.pos) + self.heading * self.speed\n",
    "        new_x, new_y = new_pos\n",
    "        self.model.space.move_agent(self, (new_x, new_y))"
   ]
  },
  {
   "cell_type": "code",
   "execution_count": 12,
   "id": "fe6cf07b",
   "metadata": {},
   "outputs": [],
   "source": [
    "class BoidModel(Model):\n",
    "    '''\n",
    "    Flocker model class. Handles agent creation, placement and scheduling.\n",
    "    '''\n",
    "\n",
    "    def __init__(self, N, width, height, speed, vision, separation):\n",
    "        '''\n",
    "        Create a new Flockers model.\n",
    "\n",
    "        Args:\n",
    "            N: Number of Boids\n",
    "            width, height: Size of the space.\n",
    "            speed: How fast should the Boids move.\n",
    "            vision: How far around should each Boid look for its neighbors\n",
    "            separtion: What's the minimum distance each Boid will attempt to\n",
    "                       keep from any other\n",
    "        '''\n",
    "        \n",
    "        #ContinuousSpace(x_max: float, y_max: float, torus: bool, x_min: float = 0, y_min: float = 0)\n",
    "        self.N = N\n",
    "        self.vision = vision\n",
    "        self.speed = speed\n",
    "        self.separation = separation\n",
    "        self.schedule = RandomActivation(self)\n",
    "        self.space = ContinuousSpace(width, height, True, 10, 10)\n",
    "        self.make_agents()\n",
    "        self.running = True\n",
    "\n",
    "    def make_agents(self):\n",
    "        '''\n",
    "        Create N agents, with random positions and starting headings.\n",
    "        '''\n",
    "        for i in range(self.N):\n",
    "            x = random.random() * self.space.x_max\n",
    "            y = random.random() * self.space.y_max\n",
    "            pos = (x, y)\n",
    "            heading = np.random.random(2) * 2 - np.array((1, 1))\n",
    "            heading /= np.linalg.norm(heading)\n",
    "            boid = Boid(i, self, pos, self.speed, heading, self.vision,\n",
    "                        self.separation)\n",
    "            self.space.place_agent(boid, pos)\n",
    "            self.schedule.add(boid)\n",
    "\n",
    "    def step(self):\n",
    "        self.schedule.step()\n"
   ]
  },
  {
   "cell_type": "code",
   "execution_count": 4,
   "id": "24511990",
   "metadata": {},
   "outputs": [],
   "source": [
    "\n",
    "\n",
    "\n",
    "def boid_draw(agent):\n",
    "    return {\"Shape\": \"circle\", \"r\": 2, \"Filled\": \"true\", \"Color\": \"Red\"}\n",
    "\n"
   ]
  },
  {
   "cell_type": "code",
   "execution_count": 5,
   "id": "56abc3f3",
   "metadata": {},
   "outputs": [],
   "source": [
    "def draw_boids(model):\n",
    "    x_vals = []\n",
    "    y_vals = []\n",
    "    \n",
    "    for boid in model.schedule.agents:\n",
    "        x, y = boid.pos\n",
    "        x_vals.append(x)\n",
    "        y_vals.append(y)\n",
    "    fig = plt.figure(figsize=(10,10))\n",
    "    ax = fig.add_subplot(111)\n",
    "    ax.scatter(x_vals, y_vals)"
   ]
  },
  {
   "cell_type": "code",
   "execution_count": 6,
   "id": "e3c9f635",
   "metadata": {},
   "outputs": [],
   "source": [
    "class SimpleCanvas(VisualizationElement):\n",
    "    local_includes = [\"flockers/simple_continuous_canvas.js\"]\n",
    "    portrayal_method = None\n",
    "    canvas_height = 500\n",
    "    canvas_width = 500\n",
    "\n",
    "    def __init__(self, portrayal_method, canvas_height=500, canvas_width=500):\n",
    "        '''\n",
    "        Instantiate a new SimpleCanvas\n",
    "        '''\n",
    "        self.portrayal_method = portrayal_method\n",
    "        self.canvas_height = canvas_height\n",
    "        self.canvas_width = canvas_width\n",
    "        new_element = (\"new Simple_Continuous_Module({}, {})\".\n",
    "                       format(self.canvas_width, self.canvas_height))\n",
    "        self.js_code = \"elements.push(\" + new_element + \");\"\n",
    "\n",
    "    def render(self, model):\n",
    "        space_state = []\n",
    "        for obj in model.schedule.agents:\n",
    "            portrayal = self.portrayal_method(obj)\n",
    "            x, y = obj.pos\n",
    "            x = ((x - model.space.x_min) /\n",
    "                 (model.space.x_max - model.space.x_min))\n",
    "            y = ((y - model.space.y_min) /\n",
    "                 (model.space.y_max - model.space.y_min))\n",
    "            portrayal[\"x\"] = x\n",
    "            portrayal[\"y\"] = y\n",
    "            space_state.append(portrayal)\n",
    "        return space_state\n"
   ]
  },
  {
   "cell_type": "code",
   "execution_count": 27,
   "id": "c7ff9e9d",
   "metadata": {},
   "outputs": [
    {
     "ename": "TypeError",
     "evalue": "__init__() takes from 3 to 5 positional arguments but 10 were given",
     "output_type": "error",
     "traceback": [
      "\u001b[0;31m---------------------------------------------------------------------------\u001b[0m",
      "\u001b[0;31mTypeError\u001b[0m                                 Traceback (most recent call last)",
      "\u001b[0;32m/var/folders/jr/4mwd3hqn7lbd7vq59vqx30n80000gn/T/ipykernel_22354/2158056699.py\u001b[0m in \u001b[0;36m<module>\u001b[0;34m\u001b[0m\n\u001b[1;32m      1\u001b[0m \u001b[0mboid_canvas\u001b[0m \u001b[0;34m=\u001b[0m \u001b[0mSimpleCanvas\u001b[0m\u001b[0;34m(\u001b[0m\u001b[0mboid_draw\u001b[0m\u001b[0;34m,\u001b[0m \u001b[0;36m500\u001b[0m\u001b[0;34m,\u001b[0m \u001b[0;36m500\u001b[0m\u001b[0;34m)\u001b[0m\u001b[0;34m\u001b[0m\u001b[0;34m\u001b[0m\u001b[0m\n\u001b[1;32m      2\u001b[0m server = ModularServer(BoidModel, [boid_canvas], \"Boids\",\n\u001b[0;32m----> 3\u001b[0;31m                        100, 100, 100, 5, 10, 2)\n\u001b[0m",
      "\u001b[0;31mTypeError\u001b[0m: __init__() takes from 3 to 5 positional arguments but 10 were given"
     ]
    }
   ],
   "source": [
    "boid_canvas = SimpleCanvas(boid_draw, 500, 500)\n",
    "server = ModularServer(BoidModel, [boid_canvas], \"Boids\",\n",
    "                       100, 100, 100, 5, 10, 2)"
   ]
  },
  {
   "cell_type": "code",
   "execution_count": 22,
   "id": "9205e1a0",
   "metadata": {},
   "outputs": [],
   "source": [
    "model = BoidModel(100, 100, 100, speed=5, vision=5, separation=1)"
   ]
  },
  {
   "cell_type": "code",
   "execution_count": 26,
   "id": "e8377689",
   "metadata": {},
   "outputs": [],
   "source": [
    "for i in range(5000):\n",
    "    model.step()\n",
    "    #draw_boids(model)"
   ]
  },
  {
   "cell_type": "code",
   "execution_count": 25,
   "id": "49cf08c5",
   "metadata": {},
   "outputs": [
    {
     "data": {
      "image/png": "[encoded data removed]",
      "text/plain": [
       "<Figure size 720x720 with 1 Axes>"
      ]
     },
     "metadata": {
      "needs_background": "light"
     },
     "output_type": "display_data"
    }
   ],
   "source": [
    "draw_boids(model)"
   ]
  },
  {
   "cell_type": "code",
   "execution_count": 1,
   "id": "78719a3f",
   "metadata": {},
   "outputs": [
    {
     "ename": "NameError",
     "evalue": "name 'np' is not defined",
     "output_type": "error",
     "traceback": [
      "\u001b[0;31m---------------------------------------------------------------------------\u001b[0m",
      "\u001b[0;31mNameError\u001b[0m                                 Traceback (most recent call last)",
      "\u001b[0;32m/var/folders/jr/4mwd3hqn7lbd7vq59vqx30n80000gn/T/ipykernel_69511/529645127.py\u001b[0m in \u001b[0;36m<module>\u001b[0;34m\u001b[0m\n\u001b[0;32m----> 1\u001b[0;31m \u001b[0mprint\u001b[0m\u001b[0;34m(\u001b[0m\u001b[0mnp\u001b[0m\u001b[0;34m.\u001b[0m\u001b[0mrandom\u001b[0m\u001b[0;34m.\u001b[0m\u001b[0mrandom\u001b[0m\u001b[0;34m(\u001b[0m\u001b[0;36m1\u001b[0m\u001b[0;34m)\u001b[0m\u001b[0;34m)\u001b[0m\u001b[0;34m\u001b[0m\u001b[0;34m\u001b[0m\u001b[0m\n\u001b[0m",
      "\u001b[0;31mNameError\u001b[0m: name 'np' is not defined"
     ]
    }
   ],
   "source": []
  },
  {
   "cell_type": "code",
   "execution_count": null,
   "id": "7a54ad15",
   "metadata": {},
   "outputs": [],
   "source": []
  }
 ],
 "metadata": {
  "kernelspec": {
   "display_name": "Python 3 (ipykernel)",
   "language": "python",
   "name": "python3"
  },
  "language_info": {
   "codemirror_mode": {
    "name": "ipython",
    "version": 3
   },
   "file_extension": ".py",
   "mimetype": "text/x-python",
   "name": "python",
   "nbconvert_exporter": "python",
   "pygments_lexer": "ipython3",
   "version": "3.7.9"
  }
 },
 "nbformat": 4,
 "nbformat_minor": 5
}
