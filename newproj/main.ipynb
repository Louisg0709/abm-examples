{
 "cells": [
  {
   "cell_type": "markdown",
   "id": "1b7d59fc",
   "metadata": {},
   "source": [
    "https://towardsdatascience.com/introduction-to-mesa-agent-based-modeling-in-python-bcb0596e1c9a\n",
    "\n",
    "https://mesa.readthedocs.io/en/latest/tutorials/intro_tutorial.html\n",
    "\n",
    "https://notebook.community/projectmesa/mesa-examples/examples/ForestFire/.ipynb_checkpoints/Forest%20Fire%20Model-checkpoint\n",
    "\n",
    "To install Mesa, simply:\n",
    "\n",
    "$ pip install mesa https://mesa.readthedocs.io/en/latest/apis/space.html"
   ]
  },
  {
   "cell_type": "code",
   "execution_count": 1,
   "id": "28edac59",
   "metadata": {},
   "outputs": [],
   "source": [
    "import random\n",
    "\n",
    "import numpy as np\n",
    "import math\n",
    "\n",
    "import matplotlib.pyplot as plt\n",
    "%matplotlib inline\n",
    "\n",
    "from mesa import Model, Agent\n",
    "from mesa.time import RandomActivation\n",
    "from mesa.space import ContinuousSpace\n",
    "from mesa.time import RandomActivation\n",
    "\n",
    "from hiveclasses import *\n",
    "\n",
    "\n",
    "#from mesa.datacollection import DataCollector\n",
    "#from mesa.batchrunner import BatchRunner"
   ]
  },
  {
   "cell_type": "code",
   "execution_count": 2,
   "id": "5d19c4a3",
   "metadata": {},
   "outputs": [],
   "source": [
    "def draw_boids(model):\n",
    "    x_vals = []\n",
    "    y_vals = []\n",
    "    t_vals=[]\n",
    "    cols = []\n",
    "    \n",
    "    for boid in model.schedule.agents:\n",
    "        x, y = boid.pos\n",
    "        if boid.atype == 0:\n",
    "            atype=1\n",
    "            cols.append(1+atype)\n",
    "        if boid.atype == 1:\n",
    "            cols.append(2+boid.pollen)\n",
    "            atype=10\n",
    "        if boid.atype == 2:\n",
    "            cols.append(2+boid.honey)\n",
    "            atype=50\n",
    "        #cols.append(1)\n",
    "        x_vals.append(x)\n",
    "        y_vals.append(y)\n",
    "        t_vals.append(100*atype)\n",
    "    fig = plt.figure(figsize=(10,10))\n",
    "    ax = fig.add_subplot(111)\n",
    "    ax.scatter(x_vals, y_vals, s=t_vals, c=cols, alpha=0.5)"
   ]
  },
  {
   "cell_type": "code",
   "execution_count": 3,
   "id": "458ea952",
   "metadata": {},
   "outputs": [],
   "source": [
    "model = HiveModel(10, 50, 3, 100, 100, speed=1, vision=20, pseparation=4, bseparation=1, qseparation=10)"
   ]
  },
  {
   "cell_type": "code",
   "execution_count": 13,
   "id": "6207e33c",
   "metadata": {},
   "outputs": [
    {
     "name": "stdout",
     "output_type": "stream",
     "text": [
      "Honey before 0.0 0\n",
      "Honey before 0.0 0\n",
      "Honey before 0.0 0\n",
      "Honey before 0.0 0\n",
      "Honey before 0.0 0\n",
      "31\n",
      "Honey before 0.0 0\n",
      "Honey before 0.0 0\n",
      "Honey before 0.0 0\n",
      "Honey before 0.0 0\n",
      "Honey before 0.0 0\n",
      "32\n",
      "Honey before 0.0 0\n",
      "Honey before 0.0 0\n",
      "Honey before 0.0 0\n",
      "Honey before 0.0 0\n",
      "Honey before 0.0 0\n",
      "33\n",
      "Honey before 0.0 0\n",
      "nan pos detected \n",
      "Honey before 0.0 0\n",
      "Honey before 0.0 0\n",
      "Honey before 0.0 0\n",
      "Honey before 0.0 0\n",
      "34\n",
      "Honey before 0.0 0\n",
      "Honey before 0.0 0\n",
      "Honey before 0.0 0\n",
      "Honey before 0.0 0\n",
      "Honey before 0.0 0\n",
      "35\n",
      "Honey before 0.0 0\n",
      "Honey before 0.0 0\n",
      "Honey before 0.0 0\n",
      "Honey before 0.0 0\n",
      "Honey before 0.0 0\n",
      "nan pos detected \n",
      "36\n",
      "Honey before 0.0 0\n",
      "Honey before 0.0 0\n",
      "Honey before 0.0 0\n",
      "Honey before 0.0 0\n",
      "Honey before 0.0 0\n",
      "37\n",
      "Honey before 0.0 0\n",
      "Honey before 0.0 0\n",
      "Honey before 0.0 0\n",
      "Honey before 0.0 0\n",
      "nan pos detected \n",
      "Honey before 0.0 0\n",
      "38\n",
      "nan pos detected \n",
      "Honey before 0.0 0\n",
      "Honey before 0.0 0\n",
      "Honey before 0.0 0\n",
      "Honey before 0.0 0\n",
      "Honey before 0.0 0\n",
      "39\n",
      "Honey before 0.0 0\n",
      "Honey before 5.0 0\n",
      "honey given 4.0 1 62\n",
      "Honey before 4.0 0\n",
      "honey given 3.0 1 62\n",
      "Honey before 3.0 0\n",
      "honey given 2.0 1 62\n",
      "Honey before 2.0 0\n",
      "honey given 1.0 1 62\n",
      "40\n",
      "nan pos detected \n",
      "Honey before 0.0 0\n",
      "Honey before 1.0 1\n",
      "honey given 0.0 2 62\n",
      "Honey before 0.0 1\n",
      "Honey before 0.0 1\n",
      "Honey before 0.0 1\n",
      "41\n",
      "nan pos detected \n",
      "Honey before 0.0 2\n",
      "Honey before 0.0 1\n",
      "Honey before 0.0 0\n",
      "Honey before 0.0 1\n",
      "Honey before 0.0 0\n",
      "Honey before 0.0 1\n",
      "Honey before 0.0 0\n",
      "42\n",
      "Honey before 0.0 2\n",
      "Honey before 0.0 1\n",
      "Honey before 0.0 0\n",
      "Honey before 0.0 1\n",
      "Honey before 0.0 0\n",
      "Honey before 0.0 1\n",
      "nan pos detected \n",
      "Honey before 0.0 0\n",
      "43\n",
      "Honey before 0.0 0\n",
      "nan pos detected \n",
      "Honey before 42.0 0\n",
      "honey given 41.0 1 61\n",
      "Honey before 0.0 2\n",
      "Honey before 0.0 0\n",
      "Honey before 0.0 1\n",
      "Honey before 0.0 0\n",
      "Honey before 0.0 1\n",
      "Honey before 0.0 0\n",
      "Honey before 0.0 1\n",
      "44\n",
      "Honey before 0.0 0\n",
      "Honey before 0.0 1\n",
      "Honey before 0.0 0\n",
      "Honey before 0.0 1\n",
      "Honey before 0.0 0\n",
      "Honey before 0.0 1\n",
      "Honey before 0.0 0\n",
      "Honey before 41.0 1\n",
      "honey given 40.0 2 61\n",
      "45\n"
     ]
    },
    {
     "name": "stderr",
     "output_type": "stream",
     "text": [
      "C:\\Users\\louis\\proj\\hive\\hiveclasses.py:245: RuntimeWarning: invalid value encountered in true_divide\n",
      "  self.heading = np.int64(self.heading)/np.int64(np.linalg.norm(self.heading))\n"
     ]
    }
   ],
   "source": [
    "for i in range(15):\n",
    "    model.step()\n",
    "    print(model.time)\n",
    "    #draw_boids(model)"
   ]
  },
  {
   "cell_type": "code",
   "execution_count": 14,
   "id": "9b3f3e54",
   "metadata": {},
   "outputs": [
    {
     "data": {
      "image/png": "[encoded data removed]",
      "text/plain": [
       "<Figure size 720x720 with 1 Axes>"
      ]
     },
     "metadata": {
      "needs_background": "light"
     },
     "output_type": "display_data"
    }
   ],
   "source": [
    "draw_boids(model)"
   ]
  },
  {
   "cell_type": "code",
   "execution_count": 6,
   "id": "802d2883",
   "metadata": {},
   "outputs": [
    {
     "name": "stdout",
     "output_type": "stream",
     "text": [
      "5 0 1\n",
      "0 0 1\n",
      "2 10 1\n",
      "3 0 1\n",
      "3 0 1\n",
      "0 0 1\n",
      "0 0 1\n",
      "2 0 1\n",
      "0 10 1\n",
      "0 0 1\n",
      "0 0 1\n",
      "0 0 1\n",
      "2 0 1\n",
      "5 0 1\n",
      "0 0 1\n",
      "6 0 1\n",
      "11 0 1\n",
      "0 0 1\n",
      "0 10 1\n",
      "8 0 1\n",
      "7 0 1\n",
      "8 0 1\n",
      "6 7 0\n",
      "0 0 1\n",
      "0 0 1\n",
      "2 0 1\n",
      "0 0 1\n",
      "5 0 1\n",
      "4 0 1\n",
      "2 0 1\n",
      "0 0 1\n",
      "2 0 1\n",
      "2 0 1\n",
      "0 0 1\n",
      "0 0 1\n",
      "0 0 1\n",
      "8 0 1\n",
      "0 0 1\n",
      "4 0 1\n",
      "3 0 1\n",
      "0 0 1\n",
      "0 0 1\n",
      "2 0 1\n",
      "4 0 1\n",
      "0 0 1\n",
      "0 10 1\n",
      "0 0 1\n",
      "2 0 1\n",
      "4 0 1\n",
      "6 4 0\n"
     ]
    }
   ],
   "source": [
    "\n",
    "for boid in model.schedule.agents:\n",
    "            if boid.atype == 0:\n",
    "                print(boid.honey, boid.pollen, boid.speed)       "
   ]
  },
  {
   "cell_type": "code",
   "execution_count": 7,
   "id": "3148748e",
   "metadata": {},
   "outputs": [
    {
     "name": "stdout",
     "output_type": "stream",
     "text": [
      "-5\n",
      "5\n",
      "-5\n",
      "-5\n",
      "-5\n",
      "-5\n",
      "-5\n",
      "5\n",
      "-5\n",
      "-5\n"
     ]
    }
   ],
   "source": [
    "for boid in model.schedule.agents:\n",
    "            if boid.atype == 1:\n",
    "                print(boid.pollen)"
   ]
  },
  {
   "cell_type": "code",
   "execution_count": 8,
   "id": "4dccfce3",
   "metadata": {},
   "outputs": [
    {
     "name": "stdout",
     "output_type": "stream",
     "text": [
      "0.0 0\n",
      "37.0 0\n",
      "0.0 -9\n"
     ]
    }
   ],
   "source": [
    "for boid in model.schedule.agents:\n",
    "            if boid.atype == 2:\n",
    "                print(boid.honey,boid.pollen)"
   ]
  },
  {
   "cell_type": "code",
   "execution_count": 9,
   "id": "24009bc7",
   "metadata": {},
   "outputs": [
    {
     "name": "stdout",
     "output_type": "stream",
     "text": [
      "86.0 10.61165039434367 1\n",
      "93.41199095555467 57.05701477845941 1\n",
      "34.0182029563196 50.841701486805256 1\n",
      "97.34753371497308 15.512680154030951 1\n",
      "88.19975444619061 13.467449776144406 1\n",
      "63.51014157615161 59.09131652739412 1\n",
      "71.29832229075087 94.32677107432647 1\n",
      "25.26476746101581 41.101505530721454 1\n",
      "46.698725383023245 38.339052704865715 1\n",
      "58.649054646793495 53.74048041414465 1\n",
      "95.4791078685538 82.54724901222835 1\n",
      "85.5364256717045 31.787644886721807 1\n",
      "86.42930857309331 10.851713076486988 1\n",
      "13.740113161244285 92.8815222621944 1\n",
      "53.6552296376006 36.9635144617337 1\n",
      "37.788178795960896 93.41164308714875 1\n",
      "25.042012589379496 41.03682660091172 1\n",
      "65.484289665183 86.77325310280725 1\n",
      "54.87649539414949 72.27325090591842 1\n",
      "34.0027081703598 89.83215206032166 1\n",
      "33.717114490269495 90.87622291337239 1\n",
      "29.00547952727261 45.43560636844028 1\n",
      "34.39692055432302 91.0823584161402 0\n",
      "61.49922255782889 84.40251873356523 1\n",
      "78.99752853072654 76.0491092851155 1\n",
      "86.97971632018648 11.281020066650143 1\n",
      "57.319652784559615 49.44126685224814 1\n",
      "38.20249999176905 92.93787836192148 1\n",
      "10.025783680707184 19.21044450504299 1\n",
      "86.1214355933843 11.219268466617876 1\n",
      "45.26971063900938 72.92145618670041 1\n",
      "25.00210683671628 41.572670209995294 1\n",
      "96.9033382359986 14.625623074194053 1\n",
      "59.381913413000895 64.7794170520595 1\n",
      "95.4706751501079 83.08695167098541 1\n",
      "73.61111456767385 32.02369747109482 1\n",
      "25.863369394556962 41.96744528785736 1\n",
      "57.91772485212163 68.14030398147341 1\n",
      "98.72946222375231 14.712233524128044 1\n",
      "98.53890671645875 14.802071910246426 1\n",
      "81.90677334672456 19.39982079615765 1\n",
      "82.24932153476536 34.43683645877884 1\n",
      "26.191007356802356 41.41263825734141 1\n",
      "38.9595181213536 91.83359215178105 1\n",
      "58.03924758400192 87.44066860969778 1\n",
      "73.48164498415349 58.54870463208555 1\n",
      "58.37177661797683 92.16663907440173 1\n",
      "27.563284405428806 42.91371025132513 1\n",
      "39.13393576015333 93.88026845920623 1\n",
      "17.01966081189387 31.46781838256436 0\n"
     ]
    }
   ],
   "source": [
    "for boid in model.schedule.agents:\n",
    "            if boid.atype == 0:\n",
    "                x,y=boid.pos\n",
    "                print(x, y, boid.speed)    "
   ]
  },
  {
   "cell_type": "code",
   "execution_count": 10,
   "id": "09c440ba",
   "metadata": {},
   "outputs": [],
   "source": [
    "x_vals = []\n",
    "y_vals = []\n",
    "t_vals=[]\n",
    "cols = []\n",
    "    \n",
    "for boid in model.schedule.agents:\n",
    "    x, y = boid.pos\n",
    "    if boid.atype == 0:\n",
    "        atype=1\n",
    "        cols.append(1+atype)\n",
    "    if boid.atype == 1:\n",
    "        cols.append(2+boid.pollen)\n",
    "        atype=10\n",
    "    if boid.atype == 2:\n",
    "        cols.append(2+boid.honey)\n",
    "        atype=50\n",
    "    #cols.append(1)\n",
    "    x_vals.append(x)\n",
    "    y_vals.append(y)\n",
    "    t_vals.append(100*atype)"
   ]
  },
  {
   "cell_type": "code",
   "execution_count": 379,
   "id": "711c891e",
   "metadata": {},
   "outputs": [
    {
     "ename": "TypeError",
     "evalue": "'list' object cannot be interpreted as an integer",
     "output_type": "error",
     "traceback": [
      "\u001b[0;31m---------------------------------------------------------------------------\u001b[0m",
      "\u001b[0;31mTypeError\u001b[0m                                 Traceback (most recent call last)",
      "\u001b[0;32m/var/folders/jr/4mwd3hqn7lbd7vq59vqx30n80000gn/T/ipykernel_755/1254899061.py\u001b[0m in \u001b[0;36m<module>\u001b[0;34m\u001b[0m\n\u001b[0;32m----> 1\u001b[0;31m \u001b[0mnp\u001b[0m\u001b[0;34m.\u001b[0m\u001b[0mconcatenate\u001b[0m\u001b[0;34m(\u001b[0m\u001b[0;34m[\u001b[0m\u001b[0mx_vals\u001b[0m\u001b[0;34m]\u001b[0m\u001b[0;34m,\u001b[0m\u001b[0;34m[\u001b[0m\u001b[0my_vals\u001b[0m\u001b[0;34m]\u001b[0m\u001b[0;34m)\u001b[0m\u001b[0;34m\u001b[0m\u001b[0;34m\u001b[0m\u001b[0m\n\u001b[0m",
      "\u001b[0;32m<__array_function__ internals>\u001b[0m in \u001b[0;36mconcatenate\u001b[0;34m(*args, **kwargs)\u001b[0m\n",
      "\u001b[0;31mTypeError\u001b[0m: 'list' object cannot be interpreted as an integer"
     ]
    }
   ],
   "source": [
    "np.concatenate([x_vals],[y_vals])\n"
   ]
  },
  {
   "cell_type": "code",
   "execution_count": 389,
   "id": "34a67755",
   "metadata": {},
   "outputs": [
    {
     "ename": "SyntaxError",
     "evalue": "invalid syntax (1911624904.py, line 8)",
     "output_type": "error",
     "traceback": [
      "\u001b[0;36m  File \u001b[0;32m\"/var/folders/jr/4mwd3hqn7lbd7vq59vqx30n80000gn/T/ipykernel_755/1911624904.py\"\u001b[0;36m, line \u001b[0;32m8\u001b[0m\n\u001b[0;31m    upos=[xp', yp']\u001b[0m\n\u001b[0m                 ^\u001b[0m\n\u001b[0;31mSyntaxError\u001b[0m\u001b[0;31m:\u001b[0m invalid syntax\n"
     ]
    }
   ],
   "source": [
    "xp=np.array([])\n",
    "yp=np.array([])\n",
    "for boid in model.schedule.agents:\n",
    "    x, y = boid.pos\n",
    "    xp = np.append(xp, x)\n",
    "    yp = np.append(yp, y)\n",
    "\n",
    "upos=[xp', yp']"
   ]
  },
  {
   "cell_type": "code",
   "execution_count": 384,
   "id": "dd78c040",
   "metadata": {},
   "outputs": [
    {
     "name": "stdout",
     "output_type": "stream",
     "text": [
      "[60.98491655 86.06967877 94.50490232 63.34439164 60.86736786 86.27730285\n",
      " 80.18166032 68.86668339 81.99779804 16.46105555 11.98049194 63.54054064\n",
      " 36.28971892 45.38581678 34.37882036 66.26496313 88.22426832 80.76565109\n",
      " 84.84641741 84.21448181 47.74040648 45.31644561 47.9122749  62.25414651\n",
      " 65.1842734  64.49966726 94.44013924 73.56861475 88.46127998 66.14024921\n",
      " 29.37008847 90.44195964 63.91626771 54.08040988 63.43602876 66.42256169\n",
      " 81.39897428 87.08778866 98.23303648 43.84140576 65.36538269 57.60422419\n",
      " 50.33886146 45.9176299  89.16104876 87.49743922 48.19022461 54.96446741\n",
      " 62.58600998 64.79956529 23.53790587 80.3200215  99.92684553 95.80877619\n",
      " 41.55382831 50.32543737 17.60624557 96.98699016 44.95016572 47.12791639\n",
      " 84.83800708 60.76364483 38.90418456]\n",
      "[65.00996201 69.39864487 21.21414921 63.12816794 17.23786452 63.10306674\n",
      " 70.46387194 71.38886705 75.82166784 56.33726181 90.93576008 20.89855732\n",
      " 67.45504697 89.08713085 18.7028882  99.37517226 69.31790825 70.2985228\n",
      " 62.6804145  69.8667638  71.79870362 67.59960593 67.50695778 20.94028289\n",
      " 32.0780513  12.67163869 20.94982914 23.03280193 71.85492577 28.21708162\n",
      " 76.29827664 69.97390412 62.38011224 36.92996254 63.01716248 50.90195715\n",
      " 46.39614118 21.43704518 50.16264038 99.78290038 31.24548321 66.67056576\n",
      " 36.35101272 67.07852844 68.6643511  68.97082503 68.97214546 69.73159794\n",
      " 63.13592298 11.78109246 29.07510682 50.22958397 50.30871182 46.6245488\n",
      " 98.42172577 47.12527583 59.63283613 91.0310979  31.59727603 92.26260203\n",
      " 11.93689519 51.48455731 39.11205488]\n"
     ]
    },
    {
     "data": {
      "text/plain": [
       "(None, None)"
      ]
     },
     "execution_count": 384,
     "metadata": {},
     "output_type": "execute_result"
    }
   ],
   "source": [
    "print(xp),print(yp)"
   ]
  },
  {
   "cell_type": "code",
   "execution_count": 388,
   "id": "e60a4260",
   "metadata": {},
   "outputs": [
    {
     "name": "stdout",
     "output_type": "stream",
     "text": [
      "[array([60.98491655, 86.06967877, 94.50490232, 63.34439164, 60.86736786,\n",
      "       86.27730285, 80.18166032, 68.86668339, 81.99779804, 16.46105555,\n",
      "       11.98049194, 63.54054064, 36.28971892, 45.38581678, 34.37882036,\n",
      "       66.26496313, 88.22426832, 80.76565109, 84.84641741, 84.21448181,\n",
      "       47.74040648, 45.31644561, 47.9122749 , 62.25414651, 65.1842734 ,\n",
      "       64.49966726, 94.44013924, 73.56861475, 88.46127998, 66.14024921,\n",
      "       29.37008847, 90.44195964, 63.91626771, 54.08040988, 63.43602876,\n",
      "       66.42256169, 81.39897428, 87.08778866, 98.23303648, 43.84140576,\n",
      "       65.36538269, 57.60422419, 50.33886146, 45.9176299 , 89.16104876,\n",
      "       87.49743922, 48.19022461, 54.96446741, 62.58600998, 64.79956529,\n",
      "       23.53790587, 80.3200215 , 99.92684553, 95.80877619, 41.55382831,\n",
      "       50.32543737, 17.60624557, 96.98699016, 44.95016572, 47.12791639,\n",
      "       84.83800708, 60.76364483, 38.90418456]), array([65.00996201, 69.39864487, 21.21414921, 63.12816794, 17.23786452,\n",
      "       63.10306674, 70.46387194, 71.38886705, 75.82166784, 56.33726181,\n",
      "       90.93576008, 20.89855732, 67.45504697, 89.08713085, 18.7028882 ,\n",
      "       99.37517226, 69.31790825, 70.2985228 , 62.6804145 , 69.8667638 ,\n",
      "       71.79870362, 67.59960593, 67.50695778, 20.94028289, 32.0780513 ,\n",
      "       12.67163869, 20.94982914, 23.03280193, 71.85492577, 28.21708162,\n",
      "       76.29827664, 69.97390412, 62.38011224, 36.92996254, 63.01716248,\n",
      "       50.90195715, 46.39614118, 21.43704518, 50.16264038, 99.78290038,\n",
      "       31.24548321, 66.67056576, 36.35101272, 67.07852844, 68.6643511 ,\n",
      "       68.97082503, 68.97214546, 69.73159794, 63.13592298, 11.78109246,\n",
      "       29.07510682, 50.22958397, 50.30871182, 46.6245488 , 98.42172577,\n",
      "       47.12527583, 59.63283613, 91.0310979 , 31.59727603, 92.26260203,\n",
      "       11.93689519, 51.48455731, 39.11205488])]\n"
     ]
    }
   ],
   "source": [
    "print(upos)"
   ]
  },
  {
   "cell_type": "code",
   "execution_count": null,
   "id": "ec404ad6",
   "metadata": {},
   "outputs": [],
   "source": [
    "    xp, yp = np.array([]), np.array([])\n",
    "    for boid in model.schedule.agents:\n",
    "        x, y = boid.pos\n",
    "        if boid.atype == 0:\n",
    "            atype=1\n",
    "            cols.append(1+atype)\n",
    "        if boid.atype == 1:\n",
    "            cols.append(2+boid.pollen)\n",
    "            atype=10\n",
    "        if boid.atype == 2:\n",
    "            cols.append(2+boid.honey)\n",
    "            atype=50\n",
    "        #cols.append(1)\n",
    "\n",
    "        x_vals.append(x)\n",
    "        y_vals.append(y)\n",
    "        t_vals.append(100*atype)\n",
    "        xp = np.append(xp, x)\n",
    "        yp = np.append(yp, y)\n"
   ]
  },
  {
   "cell_type": "code",
   "execution_count": 2,
   "id": "a7fadd88",
   "metadata": {},
   "outputs": [
    {
     "name": "stdout",
     "output_type": "stream",
     "text": [
      "[0.65515311]\n"
     ]
    }
   ],
   "source": [
    "print(np.random.random(1))"
   ]
  },
  {
   "cell_type": "code",
   "execution_count": null,
   "id": "6648cad3",
   "metadata": {},
   "outputs": [],
   "source": []
  }
 ],
 "metadata": {
  "kernelspec": {
   "display_name": "Python 3",
   "language": "python",
   "name": "python3"
  },
  "language_info": {
   "codemirror_mode": {
    "name": "ipython",
    "version": 3
   },
   "file_extension": ".py",
   "mimetype": "text/x-python",
   "name": "python",
   "nbconvert_exporter": "python",
   "pygments_lexer": "ipython3",
   "version": "3.8.8"
  }
 },
 "nbformat": 4,
 "nbformat_minor": 5
}
